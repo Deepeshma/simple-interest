{
  "cells": [
    {
      "cell_type": "markdown",
      "metadata": {
        "id": "view-in-github",
        "colab_type": "text"
      },
      "source": [
        "<a href=\"https://colab.research.google.com/github/Deepeshma/simple-interest/blob/main/business_buzzword_generator.ipynb\" target=\"_parent\"><img src=\"https://colab.research.google.com/assets/colab-badge.svg\" alt=\"Open In Colab\"/></a>"
      ]
    },
    {
      "cell_type": "markdown",
      "id": "f8b21259-c1a0-4ecb-a02f-e35565841067",
      "metadata": {
        "id": "f8b21259-c1a0-4ecb-a02f-e35565841067"
      },
      "source": [
        "# Business Buzzword Generator\n",
        "\n",
        "Lets write a real-world business-like application using Python!\n",
        "\n",
        "Want to write a program to generate business phrases.  These could be used as\n",
        "title for presentation, podcast, video, article or just for fun.\n",
        "\n",
        "## Task 0 - Import to GitHub\n",
        "\n",
        "In a browser:\n",
        "* Login to Google\n",
        "* Login to GitHub\n",
        "* Import notebook into Colab\n",
        "* Save to GitHub. Don't forget the commit message.\n",
        "* Complete the tasks saving regularly to GitHub\n",
        "\n",
        "## Task 1 - Convert to Python!\n",
        "\n",
        "As you go through the task, keep in mind our 5-step development process:\n",
        "* State the Problem Clearly\n",
        "* Describe the input and Output\n",
        "* Work a simple example by hand\n",
        "* Develop an algorithm (and convert to Python)\n",
        "* Test solution with a variety of data\n",
        "\n",
        "For this notebook, steps 1-4 have been completed and you only need to convert\n",
        "the supplied pseudocode into Python.\n",
        "\n",
        "The program uses three lists of words. Randomly picks one word from each list\n",
        "and combines the words into a phrase.  Then print out the phrase. Here is\n",
        "the pseudocode:\n",
        "\n",
        "    importing the random module\n",
        "    make three lists, one of buzzword, one of actions, and one of outcomes\n",
        "    randomly choose one buzzword, action, and outcome from each list\n",
        "    now build the phrase by \"adding\" the words together\n",
        "    output the phrase\n",
        "\n",
        "\n",
        "A good way to use pseudocode is make each line(s) a comment(s) in the code.\n",
        "\n",
        "Each line of pseudo code has been pasted into a cell below.  \n",
        "\n",
        "Try to implement each as python statement or statements."
      ]
    },
    {
      "cell_type": "code",
      "execution_count": null,
      "id": "6b9a2fc6-f8ae-4778-a5e7-9659136091fd",
      "metadata": {
        "id": "6b9a2fc6-f8ae-4778-a5e7-9659136091fd"
      },
      "outputs": [],
      "source": [
        "# importing the random module"
      ]
    },
    {
      "cell_type": "code",
      "execution_count": 2,
      "id": "52db4e24-c2e3-46f2-8a96-0fece1f437f2",
      "metadata": {
        "id": "52db4e24-c2e3-46f2-8a96-0fece1f437f2"
      },
      "outputs": [],
      "source": [
        "#  make three lists, one of buzzwords, one of actions, and one of outcomes\n",
        "verbs = ['actualize', 'administrate', 'aggregate']\n",
        "adjectives = ['accurate', 'adaptive', 'agile',]\n",
        "nouns = ['content', 'convegence','core compantancies',]\n"
      ]
    },
    {
      "cell_type": "code",
      "execution_count": 3,
      "id": "2538b8fa-1dc9-4bfd-84d8-6753b9a88218",
      "metadata": {
        "colab": {
          "base_uri": "https://localhost:8080/",
          "height": 106
        },
        "id": "2538b8fa-1dc9-4bfd-84d8-6753b9a88218",
        "outputId": "15fdaed1-31f1-4df4-f362-adeff13a7f0d"
      },
      "outputs": [
        {
          "output_type": "error",
          "ename": "SyntaxError",
          "evalue": "invalid syntax (<ipython-input-3-0c95bbf0de24>, line 2)",
          "traceback": [
            "\u001b[0;36m  File \u001b[0;32m\"<ipython-input-3-0c95bbf0de24>\"\u001b[0;36m, line \u001b[0;32m2\u001b[0m\n\u001b[0;31m    inport random\u001b[0m\n\u001b[0m           ^\u001b[0m\n\u001b[0;31mSyntaxError\u001b[0m\u001b[0;31m:\u001b[0m invalid syntax\n"
          ]
        }
      ],
      "source": [
        "# randomly choose one buzzword, action, and outcome from each list\n"
      ]
    },
    {
      "cell_type": "code",
      "source": [
        "import random\n",
        "verbs = random.choice(verbs)\n",
        "nouns = random.choice(nouns)\n",
        "adjectives = random.choice(adjectives)"
      ],
      "metadata": {
        "id": "wlkthJcG5adn"
      },
      "id": "wlkthJcG5adn",
      "execution_count": 9,
      "outputs": []
    },
    {
      "cell_type": "code",
      "execution_count": null,
      "id": "95c40fea-40d0-49e6-afe5-c181da731368",
      "metadata": {
        "id": "95c40fea-40d0-49e6-afe5-c181da731368"
      },
      "outputs": [],
      "source": [
        "# build the phrase by \"adding\" the words together"
      ]
    },
    {
      "cell_type": "code",
      "source": [
        "phrase= verbs+ '' + adjectives + '' + nouns"
      ],
      "metadata": {
        "id": "gU_QX-Rk4r7G"
      },
      "id": "gU_QX-Rk4r7G",
      "execution_count": 12,
      "outputs": []
    },
    {
      "cell_type": "code",
      "execution_count": null,
      "id": "3e36c71d-ef4b-40d5-ac7f-a7717460e28f",
      "metadata": {
        "id": "3e36c71d-ef4b-40d5-ac7f-a7717460e28f"
      },
      "outputs": [],
      "source": [
        "# output the phrase"
      ]
    },
    {
      "cell_type": "code",
      "source": [
        "print(phrase)"
      ],
      "metadata": {
        "colab": {
          "base_uri": "https://localhost:8080/"
        },
        "id": "04Ypfw495B59",
        "outputId": "44372ab7-5f7f-45e9-ac9f-036cbcdca4ec"
      },
      "id": "04Ypfw495B59",
      "execution_count": 15,
      "outputs": [
        {
          "output_type": "stream",
          "name": "stdout",
          "text": [
            "ragilen\n"
          ]
        }
      ]
    },
    {
      "cell_type": "markdown",
      "id": "5c5d439f",
      "metadata": {
        "id": "5c5d439f"
      },
      "source": [
        "## Task 2 (Optional) - Phrase Generator\n",
        "\n",
        "This task is optional.  For this task, lets think about way we could extend\n",
        "the program.  Here are some question to think about.  No Python code is needed.\n",
        "Thinking is probably enough, but if you want you can write a couple of\n",
        "sentences on what you think is required.\n",
        "* Can it be modified to generate other types of phrases? How about three lists of ingredients, and generate simple recipes? How about and idea or project generator?\n",
        "* Why limit it to three words?  \n",
        "* Does the order of the words matter?\n",
        "* Could we create sentences? If we create sentences, could we combine them to create paragraphs? Could we specify a topic, and have the program write an essay? Would this make it 'smart'?\n"
      ]
    },
    {
      "cell_type": "code",
      "execution_count": 17,
      "id": "71838d24-05d5-44cb-ae5a-1195fd805622",
      "metadata": {
        "colab": {
          "base_uri": "https://localhost:8080/"
        },
        "id": "71838d24-05d5-44cb-ae5a-1195fd805622",
        "outputId": "02942886-84ee-46c6-8b36-2bffb7b5f8df"
      },
      "outputs": [
        {
          "output_type": "stream",
          "name": "stdout",
          "text": [
            "Combine butter, eggs, and herbs to create a delicious dish.\n",
            "A project that combines problem-solving, creativity, and leadership could be a great success.\n"
          ]
        }
      ],
      "source": [
        "# prompt: Can it be modified to generate other types of phrases? How about three lists of ingredients, and generate simple recipes? How about and idea or project generator?\n",
        "\n",
        "# Create three lists of ingredients\n",
        "ingredients = [\n",
        "    ['flour', 'sugar', 'butter'],\n",
        "    ['eggs', 'milk', 'cheese'],\n",
        "    ['salt', 'pepper', 'herbs']\n",
        "]\n",
        "\n",
        "# Randomly choose one ingredient from each list\n",
        "ingredient1 = random.choice(ingredients[0])\n",
        "ingredient2 = random.choice(ingredients[1])\n",
        "ingredient3 = random.choice(ingredients[2])\n",
        "\n",
        "# Create a simple recipe\n",
        "recipe = f\"Combine {ingredient1}, {ingredient2}, and {ingredient3} to create a delicious dish.\"\n",
        "\n",
        "# Print the recipe\n",
        "print(recipe)\n",
        "\n",
        "# Create three lists of ideas\n",
        "ideas = [\n",
        "    ['brainstorming', 'problem-solving', 'collaboration'],\n",
        "    ['innovation', 'creativity', 'entrepreneurship'],\n",
        "    ['leadership', 'teamwork', 'communication']\n",
        "]\n",
        "\n",
        "# Randomly choose one idea from each list\n",
        "idea1 = random.choice(ideas[0])\n",
        "idea2 = random.choice(ideas[1])\n",
        "idea3 = random.choice(ideas[2])\n",
        "\n",
        "# Create a project generator\n",
        "project = f\"A project that combines {idea1}, {idea2}, and {idea3} could be a great success.\"\n",
        "\n",
        "# Print the project generator\n",
        "print(project)\n"
      ]
    }
  ],
  "metadata": {
    "kernelspec": {
      "display_name": "Python 3 (ipykernel)",
      "language": "python",
      "name": "python3"
    },
    "language_info": {
      "codemirror_mode": {
        "name": "ipython",
        "version": 3
      },
      "file_extension": ".py",
      "mimetype": "text/x-python",
      "name": "python",
      "nbconvert_exporter": "python",
      "pygments_lexer": "ipython3",
      "version": "3.9.6"
    },
    "colab": {
      "provenance": [],
      "include_colab_link": true
    }
  },
  "nbformat": 4,
  "nbformat_minor": 5
}